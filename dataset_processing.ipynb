{
 "cells": [
  {
   "cell_type": "markdown",
   "source": [
    "# Import libraries"
   ],
   "metadata": {
    "collapsed": false
   },
   "id": "dceeb68b25d808d7"
  },
  {
   "cell_type": "code",
   "outputs": [],
   "source": [
    "from datasets import load_dataset\n",
    "from tqdm import tqdm\n",
    "import numpy as np\n",
    "import matplotlib.pyplot as plt"
   ],
   "metadata": {
    "collapsed": true,
    "ExecuteTime": {
     "end_time": "2024-10-11T21:28:52.785640Z",
     "start_time": "2024-10-11T21:28:52.780860Z"
    }
   },
   "id": "initial_id",
   "execution_count": 109
  },
  {
   "cell_type": "markdown",
   "source": [
    "## Import dataset from Huggingface"
   ],
   "metadata": {
    "collapsed": false
   },
   "id": "2d43233cf0021e8c"
  },
  {
   "cell_type": "code",
   "outputs": [],
   "source": [
    "data = load_dataset(\"DFKI-SLT/few-nerd\", \"supervised\")"
   ],
   "metadata": {
    "collapsed": false,
    "ExecuteTime": {
     "end_time": "2024-10-11T21:28:54.802119Z",
     "start_time": "2024-10-11T21:28:52.852657Z"
    }
   },
   "id": "4b639a44199680f4",
   "execution_count": 110
  },
  {
   "cell_type": "markdown",
   "source": [
    "# Split dataset to train, test and validation datasets"
   ],
   "metadata": {
    "collapsed": false
   },
   "id": "29cfdddc4821970f"
  },
  {
   "cell_type": "code",
   "outputs": [],
   "source": [
    "train_df = data[\"train\"]\n",
    "test_df = data[\"test\"]\n",
    "val_df = data[\"validation\"]"
   ],
   "metadata": {
    "collapsed": false,
    "ExecuteTime": {
     "end_time": "2024-10-11T21:28:54.818912Z",
     "start_time": "2024-10-11T21:28:54.804126Z"
    }
   },
   "id": "4169b0bf9bba6194",
   "execution_count": 111
  },
  {
   "cell_type": "markdown",
   "source": [
    " # Analysis of Mountain Entities"
   ],
   "metadata": {
    "collapsed": false
   },
   "id": "882d68ec2202138d"
  },
  {
   "cell_type": "markdown",
   "source": [
    "The function **calculate_mountain_summary** computes statistics related to mountain entities in a dataset. Specifically, it counts:\n",
    "\n",
    "**num_mountains:** Total occurrences of a mountain tag in the dataset.\n",
    "**mountains:** A set of unique mountain names found.\n",
    "**num_samples_with_mountains:** The number of samples (rows) that contain at least one mountain.\n",
    "The function is useful for analyzing the presence of mountains in a dataset, such as for named entity recognition (NER) tasks, where it's important to know how frequently certain entities (in this case, mountains) appear. It helps understand the data distribution and can assist in model training preparation by providing key statistics about the tagged mountains."
   ],
   "metadata": {
    "collapsed": false
   },
   "id": "30a9906fca1418ef"
  },
  {
   "cell_type": "markdown",
   "source": [
    "We need to identify which ner_tag is associated with mountain locations, as this will be used for Named Entity Recognition (NER) of mountain names."
   ],
   "metadata": {
    "collapsed": false
   },
   "id": "3b3baf819a18c69d"
  },
  {
   "cell_type": "markdown",
   "source": [
    "![My Image](img/img.png) \n",
    "![My Image](img/img_1.png)\n",
    "It was taken from the [link](https://huggingface.co/datasets/DFKI-SLT/few-nerd/blob/main/few-nerd.py)"
   ],
   "metadata": {
    "collapsed": false
   },
   "id": "74328bea82a9547f"
  },
  {
   "cell_type": "code",
   "outputs": [],
   "source": [
    "mountain_tag = 24"
   ],
   "metadata": {
    "collapsed": false,
    "ExecuteTime": {
     "end_time": "2024-10-11T21:28:54.834092Z",
     "start_time": "2024-10-11T21:28:54.820923Z"
    }
   },
   "id": "cbfcdd7456672273",
   "execution_count": 112
  },
  {
   "cell_type": "code",
   "outputs": [],
   "source": [
    "def calculate_mountain_summary(dataset, mountain_tag):\n",
    "    num_mountains = 0\n",
    "    mountains = set()\n",
    "    num_samples_with_mountains = 0\n",
    "\n",
    "    for line in tqdm(dataset):\n",
    "        tags = line['fine_ner_tags']\n",
    "        mountain_indices = [i for i, tag in enumerate(tags) if tag == mountain_tag]\n",
    "        \n",
    "        if mountain_indices:\n",
    "            num_samples_with_mountains += 1\n",
    "        \n",
    "        num_mountains += len(mountain_indices)\n",
    "        mountains.update(line['tokens'][i] for i in mountain_indices)\n",
    "\n",
    "    return num_mountains, len(mountains), num_samples_with_mountains"
   ],
   "metadata": {
    "collapsed": false,
    "ExecuteTime": {
     "end_time": "2024-10-11T21:28:54.850604Z",
     "start_time": "2024-10-11T21:28:54.835099Z"
    }
   },
   "id": "ad9f8dcad1b031b8",
   "execution_count": 113
  },
  {
   "cell_type": "code",
   "outputs": [
    {
     "name": "stderr",
     "output_type": "stream",
     "text": [
      "100%|██████████| 131767/131767 [00:12<00:00, 10707.04it/s]"
     ]
    },
    {
     "name": "stdout",
     "output_type": "stream",
     "text": [
      "Total number of mountain tags in the training set: 4500\n",
      "Number of distinct mountains in the training set: 1871\n",
      "Number of samples containing mountains in the training set: 1502\n"
     ]
    },
    {
     "name": "stderr",
     "output_type": "stream",
     "text": [
      "\n"
     ]
    }
   ],
   "source": [
    "number_of_mounts_train, distinct_train, samples_train = calculate_mountain_summary(train_df, mountain_tag)\n",
    "\n",
    "print(f\"Total number of mountain tags in the training set: {number_of_mounts_train}\")\n",
    "print(f\"Number of distinct mountains in the training set: {distinct_train}\")\n",
    "print(f\"Number of samples containing mountains in the training set: {samples_train}\")"
   ],
   "metadata": {
    "collapsed": false,
    "ExecuteTime": {
     "end_time": "2024-10-11T21:29:07.171356Z",
     "start_time": "2024-10-11T21:28:54.851610Z"
    }
   },
   "id": "3aed4ff68e9dfee5",
   "execution_count": 114
  },
  {
   "cell_type": "code",
   "outputs": [
    {
     "name": "stderr",
     "output_type": "stream",
     "text": [
      "100%|██████████| 37648/37648 [00:03<00:00, 10578.84it/s]"
     ]
    },
    {
     "name": "stdout",
     "output_type": "stream",
     "text": [
      "Total number of mountain tags in the test set: 1366\n",
      "Number of distinct mountains in the test set: 776\n",
      "Number of samples containing mountains in the test set: 448\n"
     ]
    },
    {
     "name": "stderr",
     "output_type": "stream",
     "text": [
      "\n"
     ]
    }
   ],
   "source": [
    "number_of_mounts_test, distinct_test, samples_test = calculate_mountain_summary(test_df, mountain_tag)\n",
    "\n",
    "print(f\"Total number of mountain tags in the test set: {number_of_mounts_test}\")\n",
    "print(f\"Number of distinct mountains in the test set: {distinct_test}\")\n",
    "print(f\"Number of samples containing mountains in the test set: {samples_test}\")\n"
   ],
   "metadata": {
    "collapsed": false,
    "ExecuteTime": {
     "end_time": "2024-10-11T21:29:10.739717Z",
     "start_time": "2024-10-11T21:29:07.173366Z"
    }
   },
   "id": "77333b180c84355a",
   "execution_count": 115
  },
  {
   "cell_type": "code",
   "outputs": [
    {
     "name": "stderr",
     "output_type": "stream",
     "text": [
      "100%|██████████| 18824/18824 [00:01<00:00, 10474.34it/s]"
     ]
    },
    {
     "name": "stdout",
     "output_type": "stream",
     "text": [
      "Total number of mountain tags in the validation set: 734\n",
      "Number of distinct mountains in the validation set: 474\n",
      "Number of samples containing mountains in the validation set: 218\n"
     ]
    },
    {
     "name": "stderr",
     "output_type": "stream",
     "text": [
      "\n"
     ]
    }
   ],
   "source": [
    "number_of_mounts_val, distinct_val, samples_val = calculate_mountain_summary(val_df, mountain_tag)\n",
    "\n",
    "print(f\"Total number of mountain tags in the validation set: {number_of_mounts_val}\")\n",
    "print(f\"Number of distinct mountains in the validation set: {distinct_val}\")\n",
    "print(f\"Number of samples containing mountains in the validation set: {samples_val}\")\n"
   ],
   "metadata": {
    "collapsed": false,
    "ExecuteTime": {
     "end_time": "2024-10-11T21:29:12.545497Z",
     "start_time": "2024-10-11T21:29:10.740729Z"
    }
   },
   "id": "4c1936aea1b97706",
   "execution_count": 116
  },
  {
   "cell_type": "markdown",
   "source": [
    "# Process the dataset"
   ],
   "metadata": {
    "collapsed": false
   },
   "id": "4c3802751010492f"
  },
  {
   "cell_type": "markdown",
   "source": [
    "In this step, I need to implement a data preprocessing procedure to convert the fine-grained (NER) tags in the dataset into a binary format. The existing NER tags are transformed such that the tag representing mountains (identified by a numerical value, such as 24) is mapped to 1, while all other tags are mapped to 0. \n",
    "\n",
    "This binary representation simplifies the classification task for machine learning models, allowing for easier recognition of mountain-related entities. The code includes a flexible parameter, mountain_tag, making it adaptable to changes in the input data structure. By utilizing list comprehension and efficient mapping functions, the code is optimized for performance while maintaining clarity, ensuring a smoother preprocessing phase for training models that identify and classify mountain entities in text."
   ],
   "metadata": {
    "collapsed": false
   },
   "id": "1af9090ee919a53d"
  },
  {
   "cell_type": "code",
   "outputs": [],
   "source": [
    "def mapper(example, mountain_tag):\n",
    "    new_tags = [1 if tag == mountain_tag else 0 for tag in example[\"fine_ner_tags\"]]\n",
    "    example['fine_ner_tags'] = new_tags\n",
    "    return example\n",
    "\n",
    "def update(dataset, mountain_tag):\n",
    "    return dataset.map(lambda example: mapper(example, mountain_tag),batched=False)"
   ],
   "metadata": {
    "collapsed": false,
    "ExecuteTime": {
     "end_time": "2024-10-11T21:29:12.552395Z",
     "start_time": "2024-10-11T21:29:12.546603Z"
    }
   },
   "id": "9b9605992bd33167",
   "execution_count": 117
  },
  {
   "cell_type": "code",
   "outputs": [],
   "source": [
    "train_dataset = update(train_df,mountain_tag)\n",
    "test_dataset = update(test_df,mountain_tag)\n",
    "val_dataset = update(val_df,mountain_tag)"
   ],
   "metadata": {
    "collapsed": false,
    "ExecuteTime": {
     "end_time": "2024-10-11T21:29:12.600446Z",
     "start_time": "2024-10-11T21:29:12.554488Z"
    }
   },
   "id": "410450c00c0ce933",
   "execution_count": 118
  },
  {
   "cell_type": "markdown",
   "source": [
    "# Dataset Reduction and Balancing"
   ],
   "metadata": {
    "collapsed": false
   },
   "id": "3f3cadbe50ee9b6c"
  },
  {
   "cell_type": "markdown",
   "source": [
    "This section focuses on reducing the size of the training, validation, and test datasets by filtering samples based on their content. It retains all samples that contain mountain entities and randomly selects a fraction of samples that do not contain mountains. This process aims to balance the dataset, ensuring that it includes a representative amount of relevant examples while maintaining a manageable size for effective model training and evaluation."
   ],
   "metadata": {
    "collapsed": false
   },
   "id": "aa8ebef6a40ed345"
  },
  {
   "cell_type": "code",
   "outputs": [],
   "source": [
    "def reducer(dataset, p):\n",
    "    def filter_data(example):\n",
    "        if 1 in example['fine_ner_tags']:\n",
    "            return True\n",
    "        return np.random.uniform() < p\n",
    "\n",
    "    return dataset.filter(filter_data)"
   ],
   "metadata": {
    "collapsed": false,
    "ExecuteTime": {
     "end_time": "2024-10-11T21:29:12.608152Z",
     "start_time": "2024-10-11T21:29:12.603456Z"
    }
   },
   "id": "690358d5f94a14c2",
   "execution_count": 119
  },
  {
   "cell_type": "code",
   "outputs": [],
   "source": [
    "num_rows_train = data['train'].num_rows\n",
    "num_rows_test = data['test'].num_rows\n",
    "num_rows_val = data['validation'].num_rows"
   ],
   "metadata": {
    "collapsed": false,
    "ExecuteTime": {
     "end_time": "2024-10-11T21:29:12.624639Z",
     "start_time": "2024-10-11T21:29:12.610167Z"
    }
   },
   "id": "5b5d2e6a60c5ddb1",
   "execution_count": 120
  },
  {
   "cell_type": "code",
   "outputs": [],
   "source": [
    "fraction_train = samples_train / (num_rows_train - samples_train)\n",
    "fraction_test = samples_test / (num_rows_test - samples_test)\n",
    "fraction_val = samples_val / (num_rows_val - samples_val)"
   ],
   "metadata": {
    "collapsed": false,
    "ExecuteTime": {
     "end_time": "2024-10-11T21:29:12.638866Z",
     "start_time": "2024-10-11T21:29:12.625649Z"
    }
   },
   "id": "6c84c280fefb6dd0",
   "execution_count": 121
  },
  {
   "cell_type": "code",
   "outputs": [],
   "source": [
    "reduced_train = reducer(train_dataset, samples_train / (num_rows_train - samples_train))"
   ],
   "metadata": {
    "collapsed": false,
    "ExecuteTime": {
     "end_time": "2024-10-11T21:29:12.666692Z",
     "start_time": "2024-10-11T21:29:12.639876Z"
    }
   },
   "id": "7212f4027cd097fa",
   "execution_count": 122
  },
  {
   "cell_type": "code",
   "outputs": [],
   "source": [
    "reduced_test = reducer(test_dataset, samples_test / (num_rows_test- samples_test))"
   ],
   "metadata": {
    "collapsed": false,
    "ExecuteTime": {
     "end_time": "2024-10-11T21:29:12.678112Z",
     "start_time": "2024-10-11T21:29:12.668659Z"
    }
   },
   "id": "7c8a4d48c3c07201",
   "execution_count": 123
  },
  {
   "cell_type": "code",
   "outputs": [],
   "source": [
    "reduced_val = reducer(val_dataset, samples_val / (num_rows_val- samples_val))"
   ],
   "metadata": {
    "collapsed": false,
    "ExecuteTime": {
     "end_time": "2024-10-11T21:29:12.692579Z",
     "start_time": "2024-10-11T21:29:12.680121Z"
    }
   },
   "id": "a458e5bb4f07c584",
   "execution_count": 124
  },
  {
   "cell_type": "code",
   "outputs": [
    {
     "data": {
      "text/plain": "<Figure size 640x480 with 1 Axes>",
      "image/png": "[encoded data removed]"
     },
     "metadata": {},
     "output_type": "display_data"
    }
   ],
   "source": [
    "def plot_sample_distribution(train_dataset, reduced_train):\n",
    "    original_mountains = sum(1 for example in train_dataset if 1 in example['fine_ner_tags'])\n",
    "    original_non_mountains = len(train_dataset) - original_mountains\n",
    "\n",
    "    reduced_mountains = sum(1 for example in reduced_train if 1 in example['fine_ner_tags'])\n",
    "    reduced_non_mountains = len(reduced_train) - reduced_mountains\n",
    "\n",
    "    categories = ['Mountains', 'Non-Mountains']\n",
    "    original_counts = [original_mountains, original_non_mountains]\n",
    "    reduced_counts = [reduced_mountains, reduced_non_mountains]\n",
    "\n",
    "    x = range(len(categories))\n",
    "\n",
    "    plt.bar(x, original_counts, width=0.4, label='Original Dataset', color='b', align='center')\n",
    "    plt.bar([p + 0.4 for p in x], reduced_counts, width=0.4, label='Reduced Dataset', color='g', align='center')\n",
    "\n",
    "    plt.xlabel('Sample Type')\n",
    "    plt.ylabel('Count')\n",
    "    plt.title('Sample Distribution Before and After Balancing')\n",
    "    plt.xticks([p + 0.2 for p in x], categories)\n",
    "    plt.legend()\n",
    "\n",
    "    plt.show()\n",
    "\n",
    "plot_sample_distribution(train_dataset, reduced_train)"
   ],
   "metadata": {
    "collapsed": false,
    "ExecuteTime": {
     "end_time": "2024-10-11T21:29:24.203480Z",
     "start_time": "2024-10-11T21:29:12.694589Z"
    }
   },
   "id": "c96193d31d01554",
   "execution_count": 125
  },
  {
   "cell_type": "code",
   "outputs": [
    {
     "name": "stderr",
     "output_type": "stream",
     "text": [
      "100%|██████████| 3012/3012 [00:00<00:00, 5510.53it/s]\n"
     ]
    },
    {
     "data": {
      "text/plain": "(4500, 1871, 1502)"
     },
     "execution_count": 126,
     "metadata": {},
     "output_type": "execute_result"
    }
   ],
   "source": [
    "calculate_mountain_summary(reduced_train,1)"
   ],
   "metadata": {
    "collapsed": false,
    "ExecuteTime": {
     "end_time": "2024-10-11T21:29:24.759521Z",
     "start_time": "2024-10-11T21:29:24.204478Z"
    }
   },
   "id": "7a9d4b42d34e6096",
   "execution_count": 126
  },
  {
   "cell_type": "code",
   "outputs": [
    {
     "name": "stderr",
     "output_type": "stream",
     "text": [
      "100%|██████████| 905/905 [00:00<00:00, 5280.92it/s]\n"
     ]
    },
    {
     "data": {
      "text/plain": "(1366, 776, 448)"
     },
     "execution_count": 127,
     "metadata": {},
     "output_type": "execute_result"
    }
   ],
   "source": [
    "calculate_mountain_summary(reduced_test,1)"
   ],
   "metadata": {
    "collapsed": false,
    "ExecuteTime": {
     "end_time": "2024-10-11T21:29:24.941651Z",
     "start_time": "2024-10-11T21:29:24.760021Z"
    }
   },
   "id": "4c6b2989cd81d227",
   "execution_count": 127
  },
  {
   "cell_type": "code",
   "outputs": [
    {
     "name": "stderr",
     "output_type": "stream",
     "text": [
      "100%|██████████| 415/415 [00:00<00:00, 6236.72it/s]\n"
     ]
    },
    {
     "data": {
      "text/plain": "(734, 474, 218)"
     },
     "execution_count": 128,
     "metadata": {},
     "output_type": "execute_result"
    }
   ],
   "source": [
    "calculate_mountain_summary(reduced_val,1)"
   ],
   "metadata": {
    "collapsed": false,
    "ExecuteTime": {
     "end_time": "2024-10-11T21:29:25.016279Z",
     "start_time": "2024-10-11T21:29:24.942650Z"
    }
   },
   "id": "d38f991d3cd34268",
   "execution_count": 128
  },
  {
   "cell_type": "markdown",
   "source": [
    "As we can see the number of samples containing mountains (tag 1) has remained unchanged. This is because during the balancing process, all samples with the mountain tag are retained, so their count stays the same. As a result, while the overall number of samples in the dataset decreases, the count of samples with mountains remains intact. This approach reduces the number of samples without mountains (tag 0), helping to maintain a balanced dataset while ensuring important information about mountains is preserved, which is crucial for training a model to correctly identify them in text."
   ],
   "metadata": {
    "collapsed": false
   },
   "id": "24593ff4b2f37a88"
  },
  {
   "cell_type": "markdown",
   "source": [
    "# Saving the test, train, and validation datasets to the 'data' directory"
   ],
   "metadata": {
    "collapsed": false
   },
   "id": "d73d6db1a88b1b01"
  },
  {
   "cell_type": "code",
   "outputs": [
    {
     "data": {
      "text/plain": "Saving the dataset (0/1 shards):   0%|          | 0/3012 [00:00<?, ? examples/s]",
      "application/vnd.jupyter.widget-view+json": {
       "version_major": 2,
       "version_minor": 0,
       "model_id": "d5030e6d2987410094f2238af394cffc"
      }
     },
     "metadata": {},
     "output_type": "display_data"
    },
    {
     "data": {
      "text/plain": "Saving the dataset (0/1 shards):   0%|          | 0/905 [00:00<?, ? examples/s]",
      "application/vnd.jupyter.widget-view+json": {
       "version_major": 2,
       "version_minor": 0,
       "model_id": "aed96be6c6a542e3a4a8cb44e2f18c21"
      }
     },
     "metadata": {},
     "output_type": "display_data"
    },
    {
     "data": {
      "text/plain": "Saving the dataset (0/1 shards):   0%|          | 0/415 [00:00<?, ? examples/s]",
      "application/vnd.jupyter.widget-view+json": {
       "version_major": 2,
       "version_minor": 0,
       "model_id": "63eaf651d0634615a7910234f0677cdb"
      }
     },
     "metadata": {},
     "output_type": "display_data"
    }
   ],
   "source": [
    "reduced_train.save_to_disk(\"./data/train_data\")\n",
    "reduced_test.save_to_disk(\"./data/test_data\")\n",
    "reduced_val.save_to_disk(\"./data/val_data\")"
   ],
   "metadata": {
    "collapsed": false,
    "ExecuteTime": {
     "end_time": "2024-10-11T21:30:01.211274Z",
     "start_time": "2024-10-11T21:30:01.064480Z"
    }
   },
   "id": "493dd47763ac2f7a",
   "execution_count": 130
  }
 ],
 "metadata": {
  "kernelspec": {
   "display_name": "Python 3",
   "language": "python",
   "name": "python3"
  },
  "language_info": {
   "codemirror_mode": {
    "name": "ipython",
    "version": 2
   },
   "file_extension": ".py",
   "mimetype": "text/x-python",
   "name": "python",
   "nbconvert_exporter": "python",
   "pygments_lexer": "ipython2",
   "version": "2.7.6"
  }
 },
 "nbformat": 4,
 "nbformat_minor": 5
}
